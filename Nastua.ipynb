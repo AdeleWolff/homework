{
 "cells": [
  {
   "cell_type": "code",
   "execution_count": 18,
   "metadata": {
    "collapsed": true
   },
   "outputs": [],
   "source": [
    "import re"
   ]
  },
  {
   "cell_type": "code",
   "execution_count": 19,
   "metadata": {},
   "outputs": [
    {
     "name": "stdout",
     "output_type": "stream",
     "text": [
      "['this is', 'yup', 'no', 'da', 'da', 'lala']\n"
     ]
    }
   ],
   "source": [
    "string = \"this is.yup.no,da?da!lala\"\n",
    "print(re.split(\"[,\\.\\?\\!]\", string))"
   ]
  },
  {
   "cell_type": "code",
   "execution_count": 20,
   "metadata": {
    "collapsed": true
   },
   "outputs": [],
   "source": [
    "y=[]\n",
    "y=re.split(\"[,\\.\\?\\!]\", string)"
   ]
  },
  {
   "cell_type": "code",
   "execution_count": 21,
   "metadata": {},
   "outputs": [
    {
     "name": "stdout",
     "output_type": "stream",
     "text": [
      "this is\n",
      "yup\n",
      "no\n",
      "da\n",
      "da\n",
      "lala\n"
     ]
    }
   ],
   "source": [
    "for i in range(len(y)):\n",
    "    print(y[i])"
   ]
  },
  {
   "cell_type": "code",
   "execution_count": 22,
   "metadata": {},
   "outputs": [
    {
     "name": "stdout",
     "output_type": "stream",
     "text": [
      "this is\n",
      "lala\n",
      "yup\n",
      "no\n",
      "da\n",
      "da\n"
     ]
    }
   ],
   "source": [
    "for i in range(len(y)):\n",
    "    for j in range(len(y)-i-1):\n",
    "        if (len(y[j])<len(y[j+1])):\n",
    "            tmp=y[j]\n",
    "            y[j]=y[j+1]\n",
    "            y[j+1]=tmp\n",
    "\n",
    "for i in range(len(y)):\n",
    "    print(y[i])"
   ]
  },
  {
   "cell_type": "code",
   "execution_count": 28,
   "metadata": {},
   "outputs": [],
   "source": [
    "let=[0]*len(y)\n",
    "for i in range(len(y)):\n",
    "    let[i]=(len(y[0])-len(y[i]))\n"
   ]
  },
  {
   "cell_type": "code",
   "execution_count": 36,
   "metadata": {},
   "outputs": [
    {
     "name": "stdout",
     "output_type": "stream",
     "text": [
      "('this is', 'Nastua is a pig', 0)\n",
      "('lala', 'Nastua is a pig', 3)\n",
      "('yup', 'Nastua is a pig', 4)\n",
      "('no', 'Nastua is a pig', 5)\n",
      "('da', 'Nastua is a pig', 5)\n",
      "('da', 'Nastua is a pig', 5)\n"
     ]
    }
   ],
   "source": [
    "for i in range(len(y)):\n",
    "    print(y[i],'Nastua is a pig',let[i])"
   ]
  },
  {
   "cell_type": "code",
   "execution_count": null,
   "metadata": {
    "collapsed": true
   },
   "outputs": [],
   "source": []
  }
 ],
 "metadata": {
  "kernelspec": {
   "display_name": "Python 2",
   "language": "python",
   "name": "python2"
  },
  "language_info": {
   "codemirror_mode": {
    "name": "ipython",
    "version": 2
   },
   "file_extension": ".py",
   "mimetype": "text/x-python",
   "name": "python",
   "nbconvert_exporter": "python",
   "pygments_lexer": "ipython2",
   "version": "2.7.14"
  }
 },
 "nbformat": 4,
 "nbformat_minor": 2
}
