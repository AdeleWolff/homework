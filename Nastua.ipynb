{
 "cells": [
  {
   "cell_type": "code",
   "execution_count": 8,
   "metadata": {
    "collapsed": true
   },
   "outputs": [],
   "source": [
    "import re\n",
    "string = \"this is.yup.no,da?da!lala\"\n"
   ]
  },
  {
   "cell_type": "code",
   "execution_count": 9,
   "metadata": {
    "collapsed": true
   },
   "outputs": [],
   "source": [
    "y=[]\n",
    "y=re.split(\"[...\\.\\?\\!\\?!]\", string)"
   ]
  },
  {
   "cell_type": "code",
   "execution_count": 10,
   "metadata": {
    "collapsed": true
   },
   "outputs": [],
   "source": [
    "for i in range(len(y)):\n",
    "    for j in range(len(y)-i-1):\n",
    "        if (len(y[j])<len(y[j+1])):\n",
    "            tmp=y[j]\n",
    "            y[j]=y[j+1]\n",
    "            y[j+1]=tmp\n"
   ]
  },
  {
   "cell_type": "code",
   "execution_count": 11,
   "metadata": {},
   "outputs": [
    {
     "name": "stdout",
     "output_type": "stream",
     "text": [
      "('this is', 'Nastua hru-hru-hru', 0)\n",
      "('no,da', 'Nastua hru-hru-hru', 2)\n",
      "('lala', 'Nastua hru-hru-hru', 3)\n",
      "('yup', 'Nastua hru-hru-hru', 4)\n",
      "('da', 'Nastua hru-hru-hru', 5)\n"
     ]
    }
   ],
   "source": [
    "for i in range(len(y)):\n",
    "    print(y[i],'Nastua hru-hru-hru',(len(y[0])-len(y[i])))"
   ]
  },
  {
   "cell_type": "code",
   "execution_count": null,
   "metadata": {
    "collapsed": true
   },
   "outputs": [],
   "source": []
  },
  {
   "cell_type": "code",
   "execution_count": null,
   "metadata": {
    "collapsed": true
   },
   "outputs": [],
   "source": [
    "import re\n",
    "string = \"this is.yup.no,da?da!lala\"\n",
    "\n",
    "y=[]\n",
    "y=re.split(\"[...\\.\\?\\!\\?!]\", string)\n",
    "\n",
    "for i in range(len(y)):\n",
    "    for j in range(len(y)-i-1):\n",
    "        if (len(y[j])<len(y[j+1])):\n",
    "            tmp=y[j]\n",
    "            y[j]=y[j+1]\n",
    "            y[j+1]=tmp\n",
    "\n",
    "for i in range(len(y)):\n",
    "    print(y[i],'Nastua hru-hru-hru',(len(y[0])-len(y[i])))            \n"
   ]
  },
  {
   "cell_type": "code",
   "execution_count": null,
   "metadata": {
    "collapsed": true
   },
   "outputs": [],
   "source": []
  }
 ],
 "metadata": {
  "kernelspec": {
   "display_name": "Python 2",
   "language": "python",
   "name": "python2"
  },
  "language_info": {
   "codemirror_mode": {
    "name": "ipython",
    "version": 2
   },
   "file_extension": ".py",
   "mimetype": "text/x-python",
   "name": "python",
   "nbconvert_exporter": "python",
   "pygments_lexer": "ipython2",
   "version": "2.7.14"
  }
 },
 "nbformat": 4,
 "nbformat_minor": 2
}
